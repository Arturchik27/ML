{
  "nbformat": 4,
  "nbformat_minor": 0,
  "metadata": {
    "colab": {
      "name": "Лаба№2.ipynb",
      "provenance": [],
      "collapsed_sections": [],
      "authorship_tag": "ABX9TyOPMrC4h2oLX+3enoTWpgKY",
      "include_colab_link": true
    },
    "kernelspec": {
      "name": "python3",
      "display_name": "Python 3"
    },
    "language_info": {
      "name": "python"
    }
  },
  "cells": [
    {
      "cell_type": "markdown",
      "metadata": {
        "id": "view-in-github",
        "colab_type": "text"
      },
      "source": [
        "<a href=\"https://colab.research.google.com/github/Arturchik27/ML/blob/main/%D0%9B%D0%B0%D0%B1%D0%B0%E2%84%962.ipynb\" target=\"_parent\"><img src=\"https://colab.research.google.com/assets/colab-badge.svg\" alt=\"Open In Colab\"/></a>"
      ]
    },
    {
      "cell_type": "code",
      "metadata": {
        "id": "cG4zN28EP0Qj"
      },
      "source": [
        "import pandas as pd\n",
        "import numpy as np\n",
        "import matplotlib.pyplot as plt\n",
        "%matplotlib inline\n",
        "import seaborn as sns\n",
        "from IPython.core.pylabtools import figsize\n",
        "figsize(10, 10) # Зададим размер картинки\n",
        "\n",
        "# Монтируем гугл-диск\n",
        "from google.colab import drive\n",
        "drive.mount('/content/drive')\n",
        "\n",
        "data = pd.read_csv(\"/content/drive/MyDrive/winequality-red.csv\", sep=',')\n",
        "data.info()"
      ],
      "execution_count": null,
      "outputs": []
    },
    {
      "cell_type": "code",
      "metadata": {
        "id": "oExgkNXfaXqB",
        "colab": {
          "base_uri": "https://localhost:8080/"
        },
        "outputId": "3a4b315b-a1f8-4cf7-f497-5520a9a80c61"
      },
      "source": [
        "''' Введем дополнительный параметр reviews, показывающий, что вино хорошего качества в случае значения \"1\"\n",
        "или вино плохого качества в случае значения \"0\". Вино будем считать хорошим в случае значения quality > 6.5 '''\n",
        "\n",
        "def reviews(row):\n",
        "    if row.quality > 6.5:\n",
        "        return 1\n",
        "    else: \n",
        "        return 0\n",
        "data['reviews'] = data.apply(reviews, axis=1)\n",
        "data['reviews'].value_counts()"
      ],
      "execution_count": null,
      "outputs": [
        {
          "output_type": "execute_result",
          "data": {
            "text/plain": [
              "0    1382\n",
              "1     217\n",
              "Name: reviews, dtype: int64"
            ]
          },
          "metadata": {},
          "execution_count": 57
        }
      ]
    },
    {
      "cell_type": "markdown",
      "metadata": {
        "id": "psjs5DdIclln"
      },
      "source": [
        "Разделим данные на тренировочную и валидационную выборки"
      ]
    },
    {
      "cell_type": "code",
      "metadata": {
        "id": "5z6XGliXQZoV"
      },
      "source": [
        "from sklearn.model_selection import train_test_split\n",
        "X_train, X_test, y_train, y_test = train_test_split(data.drop('reviews', axis='columns'), data['reviews'], stratify=data['reviews'])"
      ],
      "execution_count": null,
      "outputs": []
    },
    {
      "cell_type": "markdown",
      "metadata": {
        "id": "RTW6SzixdB6T"
      },
      "source": [
        "Pipeline - сама обертка над моделью, то есть объект с методами fit и predict. Мы получим этот объект из функции make_pipeline.\n",
        "MinMaxScaler - класс, который нормализует признаки. Его можно подключить к нашему пайплайну без оборачивания в дополнительные функции."
      ]
    },
    {
      "cell_type": "code",
      "metadata": {
        "id": "zR1EDOkcQpgh"
      },
      "source": [
        "from sklearn.pipeline import Pipeline, make_pipeline\n",
        "from sklearn.preprocessing import MinMaxScaler\n",
        "from sklearn.neighbors import KNeighborsClassifier\n",
        "\n",
        "pipeline = make_pipeline(\n",
        "    \n",
        "    MinMaxScaler(),                               # Нормализация\n",
        "    KNeighborsClassifier(n_neighbors=5),          # Классификатор с наилучшими параметрами\n",
        ")\n",
        "\n",
        "pipeline"
      ],
      "execution_count": null,
      "outputs": []
    },
    {
      "cell_type": "markdown",
      "metadata": {
        "id": "yPdwQ3kRdqLC"
      },
      "source": [
        "Обучение пайплайна и просмотр его качества"
      ]
    },
    {
      "cell_type": "code",
      "metadata": {
        "id": "SMe2b_3PQuFW",
        "colab": {
          "base_uri": "https://localhost:8080/"
        },
        "outputId": "f93db9ad-3476-4ea0-f975-4746f7298d83"
      },
      "source": [
        "pipeline.fit(X_train, y_train)\n",
        "pipeline.score(X_test, y_test)"
      ],
      "execution_count": null,
      "outputs": [
        {
          "output_type": "execute_result",
          "data": {
            "text/plain": [
              "0.9825"
            ]
          },
          "metadata": {},
          "execution_count": 58
        }
      ]
    },
    {
      "cell_type": "markdown",
      "metadata": {
        "id": "0CHp2VI-dyHd"
      },
      "source": [
        "Этап сохранения обученной модели. Подключаем библиотеку pickle."
      ]
    },
    {
      "cell_type": "code",
      "metadata": {
        "id": "YD9EypsUQyYN"
      },
      "source": [
        "import pickle\n",
        "\n",
        "# нам нужно открыть целевой файл для записи (параметр w) в двоичном виде (параметр b), чтобы записать туда пикл модели\n",
        "with open(\"/content/drive/My Drive/Colab Notebooks/Лаба№2.pickle\", 'wb') as opened_file:\n",
        "    pickle.dump(pipeline, opened_file)"
      ],
      "execution_count": null,
      "outputs": []
    },
    {
      "cell_type": "markdown",
      "metadata": {
        "id": "SHmiOHoReJB3"
      },
      "source": [
        "Сымитируем получение модели другим человеком - перезапустим ядро ноутбука (все наши текущие переменные сотрутся из памяти) и загрузим готовую модель"
      ]
    },
    {
      "cell_type": "code",
      "metadata": {
        "id": "V5-PCs9La4-u"
      },
      "source": [
        "import pandas as pd\n",
        "import pickle\n",
        "\n",
        "with open(\"/content/drive/My Drive/Colab Notebooks/Лаба№2.pickle\", 'rb') as f:\n",
        "    model = pickle.load(f)\n",
        "    \n",
        "model"
      ],
      "execution_count": null,
      "outputs": []
    },
    {
      "cell_type": "markdown",
      "metadata": {
        "id": "7ETFGIKteTsb"
      },
      "source": [
        "Считаем заново и проверяем результат работы"
      ]
    },
    {
      "cell_type": "code",
      "metadata": {
        "id": "6Qy4MD68a9tU",
        "colab": {
          "base_uri": "https://localhost:8080/"
        },
        "outputId": "fe34ff4d-9fd1-433c-b4df-8e76ce5fd548"
      },
      "source": [
        "data = pd.read_csv(\"/content/drive/MyDrive/winequality-red.csv\", sep=',')\n",
        "\n",
        "def reviews(row):\n",
        "    if row.quality > 6.5:\n",
        "        return 1\n",
        "    else: \n",
        "        return 0\n",
        "        \n",
        "data['reviews'] = data.apply(reviews, axis=1)\n",
        "data['reviews'].value_counts()\n",
        "\n",
        "X = data.drop('reviews', axis='columns')\n",
        "y = data['reviews']\n",
        "\n",
        "model.score(X, y)"
      ],
      "execution_count": null,
      "outputs": [
        {
          "output_type": "execute_result",
          "data": {
            "text/plain": [
              "0.9862414008755472"
            ]
          },
          "metadata": {},
          "execution_count": 59
        }
      ]
    }
  ]
}